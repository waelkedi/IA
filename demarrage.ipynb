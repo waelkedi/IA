{
  "nbformat": 4,
  "nbformat_minor": 0,
  "metadata": {
    "colab": {
      "name": "Untitled30.ipynb",
      "version": "0.3.2",
      "provenance": []
    },
    "kernelspec": {
      "name": "python3",
      "display_name": "Python 3"
    }
  },
  "cells": [
    {
      "metadata": {
        "id": "Pci0FxsW8sWD",
        "colab_type": "text"
      },
      "cell_type": "markdown",
      "source": [
        "# 1. Importation des librairies"
      ]
    },
    {
      "metadata": {
        "id": "-eb8z11j8tcY",
        "colab_type": "code",
        "colab": {}
      },
      "cell_type": "code",
      "source": [
        "from keras.applications.xception import Xception, preprocess_input\n",
        "from keras.optimizers import Adam\n",
        "from keras.preprocessing import image\n",
        "from keras.losses import categorical_crossentropy\n",
        "from keras.layers import Dense, GlobalAveragePooling2D\n",
        "from keras.models import Model\n",
        "from keras.utils import to_categorical\n",
        "from keras.callbacks import ModelCheckpoint\n",
        "import math\n",
        "import numpy as np\n",
        "import os\n",
        "import argparse\n",
        "import matplotlib\n",
        "import imghdr\n",
        "matplotlib.use('Agg')\n",
        "import matplotlib.pyplot as plt\n",
        "import pickle as pkl\n",
        "import datetime"
      ],
      "execution_count": 0,
      "outputs": []
    },
    {
      "metadata": {
        "id": "RaJk3f6982pz",
        "colab_type": "text"
      },
      "cell_type": "markdown",
      "source": [
        "# 2. Génération des données à partir de chemins"
      ]
    },
    {
      "metadata": {
        "id": "FxTh_vsp9C0w",
        "colab_type": "code",
        "colab": {}
      },
      "cell_type": "code",
      "source": [
        "def generate_from_paths_and_labels(input_paths, labels, batch_size, input_size=(299,299)):\n",
        "\n",
        "    num_samples = len(input_paths)\n",
        "    while 1:\n",
        "        perm = np.random.permutation(num_samples)\n",
        "        input_paths = input_paths[perm]\n",
        "        labels = labels[perm]\n",
        "        for i in range(0, num_samples, batch_size):\n",
        "            inputs = list(map(\n",
        "                lambda x: image.load_img(x, target_size=input_size),\n",
        "                input_paths[i:i+batch_size]\n",
        "            ))\n",
        "            inputs = np.array(list(map(\n",
        "                lambda x: image.img_to_array(x),\n",
        "                inputs\n",
        "            )))\n",
        "            inputs = preprocess_input(inputs)\n",
        "            yield (inputs, labels[i:i+batch_size])"
      ],
      "execution_count": 0,
      "outputs": []
    },
    {
      "metadata": {
        "id": "84F3gw0G9KBQ",
        "colab_type": "text"
      },
      "cell_type": "markdown",
      "source": [
        "# 3. Définition des paramètres"
      ]
    },
    {
      "metadata": {
        "id": "TbI6DkBA9T3o",
        "colab_type": "code",
        "colab": {}
      },
      "cell_type": "code",
      "source": [
        "# paramètres\n",
        "lr_pre=1e-3\n",
        "lr_fine=1e-4\n",
        "epochs_fine = 5\n",
        "batch_size_fine=8\n",
        "dataset_path = \"data_deep\"\n",
        "result_path = \"result\"\n",
        "classes_path = \"classes.txt\"\n",
        "snapshot_period_pre=1\n",
        "snapshot_period_fine=1"
      ],
      "execution_count": 0,
      "outputs": []
    },
    {
      "metadata": {
        "id": "a1goS9x89Xja",
        "colab_type": "text"
      },
      "cell_type": "markdown",
      "source": [
        "# 4. Récupérer les images ainsi que leurs classes"
      ]
    },
    {
      "metadata": {
        "id": "64cg9BTF9iQ6",
        "colab_type": "code",
        "colab": {}
      },
      "cell_type": "code",
      "source": [
        "# Récupurer les noms des classes\n",
        "with open(classes_path, 'r') as f:\n",
        "    classes = f.readlines()\n",
        "    classes = list(map(lambda x: x.strip(), classes))\n",
        "num_classes = len(classes)\n",
        "\n",
        "# Récupurer les images et les classes\n",
        "input_paths, labels = [], []\n",
        "for class_name in os.listdir(dataset_path):\n",
        "    class_path = os.path.join(dataset_path, class_name)\n",
        "    class_id = classes.index(class_name)\n",
        "    for path in os.listdir(class_path):\n",
        "        path = os.path.join(class_path, path)\n",
        "        if imghdr.what(path) == None:\n",
        "            # this is not an image file\n",
        "            continue\n",
        "        input_paths.append(path)\n",
        "        labels.append(class_id)"
      ],
      "execution_count": 0,
      "outputs": []
    },
    {
      "metadata": {
        "id": "NwxNapNJ9wQ-",
        "colab_type": "text"
      },
      "cell_type": "markdown",
      "source": [
        "# 5. Préparer les données"
      ]
    },
    {
      "metadata": {
        "id": "Fmg7u_TV-ST1",
        "colab_type": "code",
        "colab": {}
      },
      "cell_type": "code",
      "source": [
        "# convert labels to one-hot-vector format\n",
        "?????\n",
        "\n",
        "# convert input paths to numpy array\n",
        "????\n",
        "\n",
        "# shuffle dataset (permuter les données)\n",
        "perm = np.random.permutation(len(input_paths))\n",
        "labels = labels[perm]\n",
        "input_paths = input_paths[perm]\n",
        "\n",
        "# split dataset for training and validation\n",
        "border = int(len(input_paths) * 0.8)\n",
        "train_labels, val_labels = labels[:border], labels[border:]\n",
        "train_input_paths, val_input_paths = input_paths[:border], input_paths[border:]\n",
        "print(\"Training on %d images and labels\" % (len(train_input_paths)))\n",
        "print(\"Validation on %d images and labels\" % (len(val_input_paths)))\n",
        "\n",
        "# Création du dossier pour sauvegrader le model\n",
        "if os.path.exists(result_path) == False:\n",
        "    os.makedirs(result_path)"
      ],
      "execution_count": 0,
      "outputs": []
    },
    {
      "metadata": {
        "id": "A_gEDmRC-d6-",
        "colab_type": "text"
      },
      "cell_type": "markdown",
      "source": [
        "# 6. Choix et création du classifieur"
      ]
    },
    {
      "metadata": {
        "id": "LNHyBQVF-oWm",
        "colab_type": "code",
        "colab": {}
      },
      "cell_type": "code",
      "source": [
        "base_model = Xception(include_top=False, weights='imagenet', input_shape=(299,299,3))  # La pouvez tester différentes architectures\n",
        "\n",
        "# create a custom top classifier\n",
        "x = base_model.output\n",
        "x = GlobalAveragePooling2D()(x)\n",
        "x = Dense(1024, activation='relu')(x)\n",
        "predictions = Dense(num_classes, activation='softmax')(x)\n",
        "model = Model(inputs=base_model.inputs, outputs=predictions)"
      ],
      "execution_count": 0,
      "outputs": []
    },
    {
      "metadata": {
        "id": "MxQ3C7Ie_TsZ",
        "colab_type": "text"
      },
      "cell_type": "markdown",
      "source": [
        "# 7. Entrainer le modèle"
      ]
    },
    {
      "metadata": {
        "id": "ixvtK7cz_aeg",
        "colab_type": "code",
        "colab": {}
      },
      "cell_type": "code",
      "source": [
        "# ====================================================\n",
        "# Train the whole model\n",
        "# ====================================================\n",
        "# set all the layers to be trainable\n",
        "for layer in model.layers:\n",
        "    layer.trainable = True\n",
        "\n",
        "# recompiler\n",
        "?????\n",
        "\n",
        "# Lancer l'entrainement\n",
        "?????\n",
        "\n",
        "# Sauvegarder le modèle (model.save)\n",
        "?????"
      ],
      "execution_count": 0,
      "outputs": []
    },
    {
      "metadata": {
        "id": "o4Am3X5X_er-",
        "colab_type": "text"
      },
      "cell_type": "markdown",
      "source": [
        "# 8. Créer et afficher les résultats"
      ]
    },
    {
      "metadata": {
        "id": "1fij6J53_hny",
        "colab_type": "code",
        "colab": {}
      },
      "cell_type": "code",
      "source": [
        "# ====================================================\n",
        "# Create & save result graphs\n",
        "# ====================================================\n",
        "# concatinate plot data\n",
        "acc = hist_pre.history['acc']\n",
        "val_acc = hist_pre.history['val_acc']\n",
        "loss = hist_pre.history['loss']\n",
        "val_loss = hist_pre.history['val_loss']\n",
        "acc.extend(hist_fine.history['acc'])\n",
        "val_acc.extend(hist_fine.history['val_acc'])\n",
        "loss.extend(hist_fine.history['loss'])\n",
        "val_loss.extend(hist_fine.history['val_loss'])\n",
        "\n",
        "# save graph image\n",
        "plt.plot(range(epochs), acc, marker='.', label='acc')\n",
        "plt.plot(range(epochs), val_acc, marker='.', label='val_acc')\n",
        "plt.legend(loc='best')\n",
        "plt.grid()\n",
        "plt.xlabel('epoch')\n",
        "plt.ylabel('acc')\n",
        "plt.savefig(os.path.join(result_path, 'acc.png'))\n",
        "plt.clf()\n",
        "\n",
        "plt.plot(range(epochs), loss, marker='.', label='loss')\n",
        "plt.plot(range(epochs), val_loss, marker='.', label='val_loss')\n",
        "plt.legend(loc='best')\n",
        "plt.grid()\n",
        "plt.xlabel('epoch')\n",
        "plt.ylabel('loss')\n",
        "plt.savefig(os.path.join(result_path, 'loss.png'))\n",
        "plt.clf()\n",
        "\n",
        "# save plot data as pickle file\n",
        "plot = {\n",
        "    'acc': acc,\n",
        "    'val_acc': val_acc,\n",
        "    'loss': loss,\n",
        "    'val_loss': val_loss,\n",
        "}\n",
        "with open(os.path.join(result_path, 'plot.dump'), 'wb') as f:\n",
        "    pkl.dump(plot, f) "
      ],
      "execution_count": 0,
      "outputs": []
    },
    {
      "metadata": {
        "id": "KY50KTX7_5MQ",
        "colab_type": "text"
      },
      "cell_type": "markdown",
      "source": [
        "# 9. Tester le modèle"
      ]
    },
    {
      "metadata": {
        "id": "i7l8FqcHADro",
        "colab_type": "code",
        "colab": {}
      },
      "cell_type": "code",
      "source": [
        "from keras.applications.xception import (\n",
        "    Xception, preprocess_input, decode_predictions\n",
        ")\n",
        "from matplotlib import pyplot as plt\n",
        "from keras.preprocessing import image\n",
        "from keras.models import load_model\n",
        "import numpy as np\n",
        "import os\n",
        "import cv2 \n",
        "\n",
        "import tensorflow as tf\n",
        "from keras.backend.tensorflow_backend import set_session\n",
        "config = tf.ConfigProto()\n",
        "config.gpu_options.per_process_gpu_memory_fraction = 0.3\n",
        "set_session(tf.Session(config=config))\n",
        "\n",
        "%matplotlib inline\n",
        "\n",
        "model_path=\"result/model_fine_final.h5\"   # Ici, vous devez indiquer votre modèle\n",
        "classes_path = \"classes.txt\"\n",
        "image_path=\"images_test/feu3.jpg\"         # Votre image de test   \n",
        "top_n=3\n",
        "model = load_model(model_path)\n",
        "\n",
        "# load class names\n",
        "classes = []\n",
        "with open(classes_path, 'r') as f:\n",
        "    classes = list(map(lambda x: x.strip(), f.readlines()))\n",
        "\n",
        "# load an input image\n",
        "img = image.load_img(image_path, target_size=(299, 299))\n",
        "x = image.img_to_array(img)\n",
        "x = np.expand_dims(x, axis=0)\n",
        "x = preprocess_input(x)\n",
        "\n",
        "# predict\n",
        "pred = model.predict(x)[0]\n",
        "result = [(classes[i], float(pred[i]) * 100.0) for i in range(len(pred))]\n",
        "result.sort(reverse=True, key=lambda x: x[1])\n",
        "\n",
        "img = cv2.imread(image_path)\n",
        "\n",
        "img = cv2.cvtColor(img, cv2.COLOR_BGR2RGB)\n",
        "\n",
        "img = cv2.rectangle(img, (200,200), (800,500), (0,0,0), 4)\n",
        "\n",
        "font = cv2.FONT_HERSHEY_COMPLEX \n",
        "\n",
        "for i in range(top_n):\n",
        "    (class_name, prob) = result[i]\n",
        "    if (i == 0) :\n",
        "        cv2.putText(img, class_name, (250, 400), font, 5, (255,0,0), 6, cv2.LINE_AA)\n",
        "    print(\"Top %d ====================\" % (i + 1))\n",
        "    print(\"Class name: %s\" % (class_name))\n",
        "    print(\"Probability: %.2f%%\" % (prob))\n",
        "plt.imshow(img)"
      ],
      "execution_count": 0,
      "outputs": []
    }
  ]
}